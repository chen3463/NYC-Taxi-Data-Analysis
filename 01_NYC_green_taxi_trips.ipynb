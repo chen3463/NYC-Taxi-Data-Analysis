{
 "cells": [
  {
   "cell_type": "code",
   "execution_count": 1,
   "metadata": {
    "_cell_guid": "b1076dfc-b9ad-4769-8c92-a6c4dae69d19",
    "_kg_hide-input": false,
    "_kg_hide-output": true,
    "_uuid": "8f2839f25d086af736a60e9eeb907d3b93b6e0e5"
   },
   "outputs": [],
   "source": [
    "import numpy as np # linear algebra\n",
    "import pandas as pd \n",
    "import io\n",
    "import requests\n",
    "import matplotlib.pyplot as plt\n",
    "import numpy as np\n",
    "from scipy.stats import lognorm\n",
    "from datetime import datetime\n",
    "from sklearn.model_selection import train_test_split\n",
    "from sklearn.ensemble import RandomForestRegressor\n",
    "from sklearn.model_selection import cross_val_score\n",
    "from sklearn.model_selection import RandomizedSearchCV\n",
    "from sklearn import preprocessing\n",
    "from scipy.stats import binned_statistic_2d"
   ]
  },
  {
   "cell_type": "markdown",
   "metadata": {
    "_uuid": "8a62b8e0ce7ed7312245c16335df3448c3cdc39e"
   },
   "source": [
    "## Question 1\n",
    "The [NYC Taxi and Limousine trip record data](https://s3.amazonaws.com/nyc-tlc/trip+data/green_tripdata_2015-09.csv) was downloaded and read as data frame."
   ]
  },
  {
   "cell_type": "code",
   "execution_count": 2,
   "metadata": {
    "_cell_guid": "79c7e3d0-c299-4dcb-8224-4455121ee9b0",
    "_uuid": "d629ff2d2480ee46fbb7e2d37f6b5fab8052498a"
   },
   "outputs": [],
   "source": [
    "CSV_URL = 'https://s3.amazonaws.com/nyc-tlc/trip+data/green_tripdata_2015-09.csv'\n",
    "s = requests.get(CSV_URL).content\n",
    "data = pd.read_csv(io.StringIO(s.decode('utf-8')))"
   ]
  },
  {
   "cell_type": "markdown",
   "metadata": {
    "_uuid": "3ca2dc7ed850d0828b871b8a83c33a1e88f0fef7"
   },
   "source": [
    "There are 1,494,926 rows and 21 columns in the data set"
   ]
  },
  {
   "cell_type": "code",
   "execution_count": 3,
   "metadata": {
    "_uuid": "9f6eb3d77043ded74aff0ae26057094bc1b60900"
   },
   "outputs": [
    {
     "name": "stdout",
     "output_type": "stream",
     "text": [
      "row number is 1494926\n",
      "column number is 21\n"
     ]
    }
   ],
   "source": [
    "nrow, ncol = data.shape\n",
    "print('row number is', nrow)\n",
    "print('column number is', ncol)"
   ]
  },
  {
   "cell_type": "markdown",
   "metadata": {
    "_uuid": "88a7c87cb4c403f81e33e407bb95e8da6f7f4133"
   },
   "source": [
    "## Question 2\n",
    "A description of Trip Distance was shown below before generating the histogram"
   ]
  },
  {
   "cell_type": "code",
   "execution_count": 4,
   "metadata": {
    "_uuid": "651476a48001a6cc10e9ea7f24cee9c1915ded8a",
    "scrolled": true
   },
   "outputs": [
    {
     "data": {
      "text/plain": [
       "count    1.494926e+06\n",
       "mean     2.968141e+00\n",
       "std      3.076621e+00\n",
       "min      0.000000e+00\n",
       "25%      1.100000e+00\n",
       "50%      1.980000e+00\n",
       "75%      3.740000e+00\n",
       "max      6.031000e+02\n",
       "Name: Trip_distance, dtype: float64"
      ]
     },
     "execution_count": 4,
     "metadata": {},
     "output_type": "execute_result"
    }
   ],
   "source": [
    "data['Trip_distance'].describe()"
   ]
  },
  {
   "cell_type": "code",
   "execution_count": 5,
   "metadata": {
    "_uuid": "2caed7b9ea3a74cb6b5b4ebcda352d3d0f36712b"
   },
   "outputs": [
    {
     "name": "stdout",
     "output_type": "stream",
     "text": [
      "Around 96.37 % of trips under 10 miles\n"
     ]
    }
   ],
   "source": [
    "trip_less10 = data['Trip_distance'][data['Trip_distance']<10]\n",
    "print('Around', \"%.2f\" % round(len(trip_less10)/nrow * 100,2), '% of trips under 10 miles')"
   ]
  },
  {
   "cell_type": "markdown",
   "metadata": {
    "_uuid": "c64cea983963b1d4620136aedde5a61b596fe742"
   },
   "source": [
    "Around 96.37 % trips are under 10 miles, a histogram of trips under 10 miles was generated"
   ]
  },
  {
   "cell_type": "code",
   "execution_count": 6,
   "metadata": {
    "_uuid": "fbc57944113b061574e84ceab341a03e134a6eb4"
   },
   "outputs": [
    {
     "data": {
      "image/png": "[encoded data removed]",
      "text/plain": [
       "<Figure size 432x288 with 1 Axes>"
      ]
     },
     "metadata": {},
     "output_type": "display_data"
    }
   ],
   "source": [
    "plt.hist(trip_less10, bins=25);\n",
    "plt.title('Trip_distance distribution < 10 miles');\n",
    "plt.xlabel('Trip distance (miles)');\n",
    "plt.ylabel('Frequency');"
   ]
  },
  {
   "cell_type": "markdown",
   "metadata": {
    "_uuid": "9c6e2b12ae5f1f999a2770cf54013a1e12f2c4e9"
   },
   "source": [
    "The shape of the histogram looks like Lognormal distribution, then the trip distance data was used to fit a Lognormal distribution."
   ]
  },
  {
   "cell_type": "code",
   "execution_count": 7,
   "metadata": {
    "_uuid": "6560db3aa88ba78b0eaf4ad7e73f28cb22ce8261"
   },
   "outputs": [
    {
     "name": "stderr",
     "output_type": "stream",
     "text": [
      "/opt/conda/lib/python3.6/site-packages/matplotlib/axes/_axes.py:6462: UserWarning: The 'normed' kwarg is deprecated, and has been replaced by the 'density' kwarg.\n",
      "  warnings.warn(\"The 'normed' kwarg is deprecated, and has been \"\n"
     ]
    },
    {
     "data": {
      "image/png": "[encoded data removed]",
      "text/plain": [
       "<Figure size 432x288 with 1 Axes>"
      ]
     },
     "metadata": {},
     "output_type": "display_data"
    }
   ],
   "source": [
    "myHist = plt.hist(trip_less10, bins=25, normed=True)\n",
    "s, l, m = lognorm.fit(data['Trip_distance'], data['Trip_distance'].mean() ,loc=0)\n",
    "rv = lognorm(s, l, m)\n",
    "x = np.linspace(0,10) \n",
    "h = plt.plot(x, rv.pdf(x), lw=2)"
   ]
  },
  {
   "cell_type": "markdown",
   "metadata": {
    "_uuid": "930e3a5d328988a9ddeaed02dc295861ef8d599e"
   },
   "source": [
    "## Question 3\n",
    "### 3.1 Mean and Median trip distance grouped by hour of day"
   ]
  },
  {
   "cell_type": "code",
   "execution_count": 8,
   "metadata": {
    "_uuid": "5a7e99e45b04ac52d9b01ad0581fa3b2bcfbf2d8"
   },
   "outputs": [],
   "source": [
    "data['lpep_pickup_datetime'] = pd.to_datetime(data['lpep_pickup_datetime'])\n",
    "data['pickup_hour'] = data['lpep_pickup_datetime'].dt.hour\n",
    "data_by_hour = data.groupby('pickup_hour').agg({'Trip_distance': ['mean', 'median']})"
   ]
  },
  {
   "cell_type": "markdown",
   "metadata": {
    "_uuid": "23f8ec2e04bc530ff16f7fd4607fd41699d6ec71"
   },
   "source": [
    "The mean and median trip distance grouped by hour of day are below"
   ]
  },
  {
   "cell_type": "code",
   "execution_count": 9,
   "metadata": {
    "_uuid": "76c24f6eb527f62bdad35f57e6aaf332419b96a6"
   },
   "outputs": [
    {
     "name": "stdout",
     "output_type": "stream",
     "text": [
      "            Trip_distance       \n",
      "                     mean median\n",
      "pickup_hour                     \n",
      "0                3.115276   2.20\n",
      "1                3.017347   2.12\n",
      "2                3.046176   2.14\n",
      "3                3.212945   2.20\n",
      "4                3.526555   2.36\n",
      "5                4.133474   2.90\n",
      "6                4.055149   2.84\n",
      "7                3.284394   2.17\n",
      "8                3.048450   1.98\n",
      "9                2.999105   1.96\n",
      "10               2.944482   1.92\n",
      "11               2.912015   1.88\n",
      "12               2.903065   1.89\n",
      "13               2.878294   1.84\n",
      "14               2.864304   1.83\n",
      "15               2.857040   1.81\n",
      "16               2.779852   1.80\n",
      "17               2.679114   1.78\n",
      "18               2.653222   1.80\n",
      "19               2.715597   1.85\n",
      "20               2.777052   1.90\n",
      "21               2.999189   2.03\n",
      "22               3.185394   2.20\n",
      "23               3.191538   2.22\n"
     ]
    }
   ],
   "source": [
    "print(data_by_hour)"
   ]
  },
  {
   "cell_type": "code",
   "execution_count": 10,
   "metadata": {
    "_uuid": "b65be3ca2fc922a4468f2a42bef4954d9bfde63d"
   },
   "outputs": [
    {
     "data": {
      "text/plain": [
       "<matplotlib.axes._subplots.AxesSubplot at 0x7fee27ddd6a0>"
      ]
     },
     "execution_count": 10,
     "metadata": {},
     "output_type": "execute_result"
    },
    {
     "data": {
      "image/png": "[encoded data removed]",
      "text/plain": [
       "<Figure size 432x288 with 1 Axes>"
      ]
     },
     "metadata": {},
     "output_type": "display_data"
    }
   ],
   "source": [
    "data_by_hour.plot()"
   ]
  },
  {
   "cell_type": "markdown",
   "metadata": {
    "_uuid": "e45fb3d8029e8369b56d51d9db9eb2a7efa5168e"
   },
   "source": [
    "### 3.2 Airport trips\n",
    "According to [New York Taxi Fare information](https://www1.nyc.gov/site/tlc/passengers/taxi-fare.page), airport trips have **RateCodeID** = 2 or 3. Total 5552 airport trips, average **Total_amount** is $57.21.  "
   ]
  },
  {
   "cell_type": "code",
   "execution_count": 11,
   "metadata": {
    "_uuid": "15b2dbae00cfa59aa652dc97fbb12ed30d6e3941"
   },
   "outputs": [
    {
     "data": {
      "text/html": [
       "<div>\n",
       "<style scoped>\n",
       "    .dataframe tbody tr th:only-of-type {\n",
       "        vertical-align: middle;\n",
       "    }\n",
       "\n",
       "    .dataframe tbody tr th {\n",
       "        vertical-align: top;\n",
       "    }\n",
       "\n",
       "    .dataframe thead th {\n",
       "        text-align: right;\n",
       "    }\n",
       "</style>\n",
       "<table border=\"1\" class=\"dataframe\">\n",
       "  <thead>\n",
       "    <tr style=\"text-align: right;\">\n",
       "      <th></th>\n",
       "      <th>Fare_amount</th>\n",
       "      <th>Total_amount</th>\n",
       "    </tr>\n",
       "  </thead>\n",
       "  <tbody>\n",
       "    <tr>\n",
       "      <th>mean</th>\n",
       "      <td>49.0</td>\n",
       "      <td>57.0</td>\n",
       "    </tr>\n",
       "    <tr>\n",
       "      <th>count</th>\n",
       "      <td>5552.0</td>\n",
       "      <td>5552.0</td>\n",
       "    </tr>\n",
       "  </tbody>\n",
       "</table>\n",
       "</div>"
      ],
      "text/plain": [
       "       Fare_amount  Total_amount\n",
       "mean          49.0          57.0\n",
       "count       5552.0        5552.0"
      ]
     },
     "execution_count": 11,
     "metadata": {},
     "output_type": "execute_result"
    }
   ],
   "source": [
    "airport_trips = data.loc[data['RateCodeID'].isin([2,3]),]\n",
    "airport_trips.agg({'Fare_amount': ['mean', 'count'], \n",
    "                   'Total_amount': ['mean', 'count']}).round(0)"
   ]
  },
  {
   "cell_type": "markdown",
   "metadata": {
    "_uuid": "c59695710c068a3992c240f88c689fcdd54d62d0"
   },
   "source": [
    "## Question 4\n",
    "The goal of this problem is to build a predictive model for tip as a percentage of the total fare. The response variable is the tip as a percentage of the total fare (**Total_amount** - **Tip_amount**)"
   ]
  },
  {
   "cell_type": "markdown",
   "metadata": {
    "_uuid": "b38662788204dae338f744074acc02ad26a3892e"
   },
   "source": [
    "### 4.1 Clean data set"
   ]
  },
  {
   "cell_type": "markdown",
   "metadata": {
    "_uuid": "0927e6932b411913cb85f711040bf90dd7ffe479"
   },
   "source": [
    "According to [Green Taxi Data Dictionary](http://www1.nyc.gov/assets/tlc/downloads/pdf/data_dictionary_trip_records_green.pdf), the **Tip_amount** is automatically populated for credit card tips and cash tips are not included; the **Total_amount** is charged to passengers and does not include cash tips as well. Thus, trips paid with credit cards were only considered in predictive modeling. "
   ]
  },
  {
   "cell_type": "code",
   "execution_count": 12,
   "metadata": {
    "_uuid": "6b486a50f4e4084ad5b07d0996571f238a0f8a81"
   },
   "outputs": [],
   "source": [
    "Trips_credit = data.loc[(data['Payment_type']==1),:]"
   ]
  },
  {
   "cell_type": "markdown",
   "metadata": {
    "_uuid": "c205e65e4c354fbcd1b6bb7884b7f1fbdcf12292"
   },
   "source": [
    "Trips have nagtive dollar may be due to data errors. They were changed back to positive amount"
   ]
  },
  {
   "cell_type": "code",
   "execution_count": 13,
   "metadata": {
    "_uuid": "20c701977d94840158e30088afac332907bca1e1"
   },
   "outputs": [
    {
     "name": "stderr",
     "output_type": "stream",
     "text": [
      "/opt/conda/lib/python3.6/site-packages/pandas/core/frame.py:3140: SettingWithCopyWarning: \n",
      "A value is trying to be set on a copy of a slice from a DataFrame.\n",
      "Try using .loc[row_indexer,col_indexer] = value instead\n",
      "\n",
      "See the caveats in the documentation: http://pandas.pydata.org/pandas-docs/stable/indexing.html#indexing-view-versus-copy\n",
      "  self[k1] = value[k2]\n"
     ]
    }
   ],
   "source": [
    "charge = ['Total_amount', 'Tip_amount', 'Tolls_amount', \n",
    "          'Fare_amount', 'Extra', 'MTA_tax', 'improvement_surcharge']\n",
    "\n",
    "Trips_credit[charge] = Trips_credit[charge].abs()"
   ]
  },
  {
   "cell_type": "markdown",
   "metadata": {
    "_uuid": "ce34dd66622a382904d04b66fffbd8062b9848c0"
   },
   "source": [
    " 147 Trips with **RateCodeID** = 5 indicated Negotiated fare, which were excluded because **Total_amount** was equal to **Tip_amount**. 3 trips paid by credit cards with **RateCodeID** = 99, which were invalid trips because **Dropoff_longitude**, \t**Dropoff_latitude** were all 0.00. According to [New York City Taxi Fare](http://www1.nyc.gov/site/tlc/passengers/taxi-fare.page), min fare of green taxi is 2.50 dollars for a trip. Thus, trips with **Total_amount** less than $ 2.50 were excluded "
   ]
  },
  {
   "cell_type": "code",
   "execution_count": 14,
   "metadata": {
    "_uuid": "f93c9c47d99efbe075ba2d44509cba7b33b4b67f"
   },
   "outputs": [],
   "source": [
    "Trips_credit_valid = Trips_credit.loc[(Trips_credit['Total_amount'] >= 2.50) & (Trips_credit['RateCodeID'] < 5)]"
   ]
  },
  {
   "cell_type": "markdown",
   "metadata": {
    "_uuid": "a9edecd20f923f4f41512b01871d2247025e9449"
   },
   "source": [
    "A new variable **Tips_precent** was derived for tip as a percentage of the total fare, which is the response variable in predictive modeling. \n",
    "              **Tips_percent** = (**Total_amount** - **Tip_amount**) / **Total_amount** * 100"
   ]
  },
  {
   "cell_type": "code",
   "execution_count": 15,
   "metadata": {
    "_uuid": "0a09d57ceec7536e0aa78239241ee20b617c9f46"
   },
   "outputs": [
    {
     "name": "stderr",
     "output_type": "stream",
     "text": [
      "/opt/conda/lib/python3.6/site-packages/ipykernel_launcher.py:1: SettingWithCopyWarning: \n",
      "A value is trying to be set on a copy of a slice from a DataFrame.\n",
      "Try using .loc[row_indexer,col_indexer] = value instead\n",
      "\n",
      "See the caveats in the documentation: http://pandas.pydata.org/pandas-docs/stable/indexing.html#indexing-view-versus-copy\n",
      "  \"\"\"Entry point for launching an IPython kernel.\n"
     ]
    }
   ],
   "source": [
    "Trips_credit_valid['Tip_percent'] = Trips_credit_valid['Tip_amount'] / (Trips_credit_valid['Total_amount'] - Trips_credit_valid['Tip_amount'])"
   ]
  },
  {
   "cell_type": "markdown",
   "metadata": {
    "_uuid": "a864432137156f6639d4ce59c0d01617d95ecd20"
   },
   "source": [
    "## 4.2 Feature Egineering "
   ]
  },
  {
   "cell_type": "markdown",
   "metadata": {
    "_uuid": "6ba990b0c1e24e2e1963da6ef154cc9a1581f803"
   },
   "source": [
    "Extract the week number of the year, day of week and created indicator of weekday/weekend from pickup time stamps. "
   ]
  },
  {
   "cell_type": "code",
   "execution_count": 16,
   "metadata": {
    "_uuid": "01476800029dcdf7ff9eb04e2291ac3218270d33"
   },
   "outputs": [
    {
     "name": "stderr",
     "output_type": "stream",
     "text": [
      "/opt/conda/lib/python3.6/site-packages/ipykernel_launcher.py:2: SettingWithCopyWarning: \n",
      "A value is trying to be set on a copy of a slice from a DataFrame.\n",
      "Try using .loc[row_indexer,col_indexer] = value instead\n",
      "\n",
      "See the caveats in the documentation: http://pandas.pydata.org/pandas-docs/stable/indexing.html#indexing-view-versus-copy\n",
      "  \n",
      "/opt/conda/lib/python3.6/site-packages/ipykernel_launcher.py:3: SettingWithCopyWarning: \n",
      "A value is trying to be set on a copy of a slice from a DataFrame.\n",
      "Try using .loc[row_indexer,col_indexer] = value instead\n",
      "\n",
      "See the caveats in the documentation: http://pandas.pydata.org/pandas-docs/stable/indexing.html#indexing-view-versus-copy\n",
      "  This is separate from the ipykernel package so we can avoid doing imports until\n",
      "/opt/conda/lib/python3.6/site-packages/ipykernel_launcher.py:4: SettingWithCopyWarning: \n",
      "A value is trying to be set on a copy of a slice from a DataFrame.\n",
      "Try using .loc[row_indexer,col_indexer] = value instead\n",
      "\n",
      "See the caveats in the documentation: http://pandas.pydata.org/pandas-docs/stable/indexing.html#indexing-view-versus-copy\n",
      "  after removing the cwd from sys.path.\n"
     ]
    }
   ],
   "source": [
    "def time_features(df, col):\n",
    "    df['weekofyear'] = df[col].dt.weekofyear\n",
    "    df['dayofweek'] = df[col].dt.dayofweek\n",
    "    df['weekend'] = (df[col].dt.weekday >=5).astype(int)\n",
    "    # df['hour'] = df[col].dt.hour\n",
    "\n",
    "time_features(Trips_credit_valid, 'lpep_pickup_datetime')"
   ]
  },
  {
   "cell_type": "markdown",
   "metadata": {
    "_uuid": "8c9796bf1c6d6cb91a3d6a86884ffda058e13e86"
   },
   "source": [
    "The **trip_time** (minutes) was created by differences between pickup time stamp and dropoff time stamp. And the **avg_speed** was created by **Trip_distance** divided by **trip_time**, infinity values and NaN was replaced by median of rest average speed."
   ]
  },
  {
   "cell_type": "code",
   "execution_count": 17,
   "metadata": {
    "_uuid": "546705eee5a30327f2aa855bd02734d568c299c2"
   },
   "outputs": [
    {
     "name": "stderr",
     "output_type": "stream",
     "text": [
      "/opt/conda/lib/python3.6/site-packages/ipykernel_launcher.py:1: SettingWithCopyWarning: \n",
      "A value is trying to be set on a copy of a slice from a DataFrame.\n",
      "Try using .loc[row_indexer,col_indexer] = value instead\n",
      "\n",
      "See the caveats in the documentation: http://pandas.pydata.org/pandas-docs/stable/indexing.html#indexing-view-versus-copy\n",
      "  \"\"\"Entry point for launching an IPython kernel.\n",
      "/opt/conda/lib/python3.6/site-packages/ipykernel_launcher.py:2: SettingWithCopyWarning: \n",
      "A value is trying to be set on a copy of a slice from a DataFrame.\n",
      "Try using .loc[row_indexer,col_indexer] = value instead\n",
      "\n",
      "See the caveats in the documentation: http://pandas.pydata.org/pandas-docs/stable/indexing.html#indexing-view-versus-copy\n",
      "  \n",
      "/opt/conda/lib/python3.6/site-packages/ipykernel_launcher.py:3: SettingWithCopyWarning: \n",
      "A value is trying to be set on a copy of a slice from a DataFrame.\n",
      "Try using .loc[row_indexer,col_indexer] = value instead\n",
      "\n",
      "See the caveats in the documentation: http://pandas.pydata.org/pandas-docs/stable/indexing.html#indexing-view-versus-copy\n",
      "  This is separate from the ipykernel package so we can avoid doing imports until\n",
      "/opt/conda/lib/python3.6/site-packages/ipykernel_launcher.py:6: SettingWithCopyWarning: \n",
      "A value is trying to be set on a copy of a slice from a DataFrame.\n",
      "Try using .loc[row_indexer,col_indexer] = value instead\n",
      "\n",
      "See the caveats in the documentation: http://pandas.pydata.org/pandas-docs/stable/indexing.html#indexing-view-versus-copy\n",
      "  \n",
      "/opt/conda/lib/python3.6/site-packages/ipykernel_launcher.py:7: SettingWithCopyWarning: \n",
      "A value is trying to be set on a copy of a slice from a DataFrame.\n",
      "Try using .loc[row_indexer,col_indexer] = value instead\n",
      "\n",
      "See the caveats in the documentation: http://pandas.pydata.org/pandas-docs/stable/indexing.html#indexing-view-versus-copy\n",
      "  import sys\n"
     ]
    }
   ],
   "source": [
    "Trips_credit_valid['Lpep_dropoff_datetime'] = pd.to_datetime(Trips_credit_valid['Lpep_dropoff_datetime'])\n",
    "Trips_credit_valid['trip_time'] = (Trips_credit_valid['Lpep_dropoff_datetime'] - Trips_credit_valid['lpep_pickup_datetime']).dt.seconds/60.0\n",
    "Trips_credit_valid['avg_speed'] = Trips_credit_valid['Trip_distance'] / Trips_credit_valid['trip_time']\n",
    "\n",
    "med_speed = Trips_credit_valid['avg_speed'].quantile(0.5)\n",
    "Trips_credit_valid['avg_speed'] = Trips_credit_valid['avg_speed'].fillna(med_speed)\n",
    "Trips_credit_valid['avg_speed'] = Trips_credit_valid['avg_speed'].replace(np.inf, med_speed)"
   ]
  },
  {
   "cell_type": "markdown",
   "metadata": {
    "_uuid": "fe44896b96c7c28bde77fd7b022a7b5777fd6b4c"
   },
   "source": [
    "A new indicator variable **Tolls** was created, 1 means tolls was included in this trip, otherwise 0. "
   ]
  },
  {
   "cell_type": "code",
   "execution_count": 18,
   "metadata": {
    "_uuid": "9993d2c85e77a77bbcfa50996fa2e975d08b9fd5"
   },
   "outputs": [
    {
     "name": "stderr",
     "output_type": "stream",
     "text": [
      "/opt/conda/lib/python3.6/site-packages/ipykernel_launcher.py:1: SettingWithCopyWarning: \n",
      "A value is trying to be set on a copy of a slice from a DataFrame.\n",
      "Try using .loc[row_indexer,col_indexer] = value instead\n",
      "\n",
      "See the caveats in the documentation: http://pandas.pydata.org/pandas-docs/stable/indexing.html#indexing-view-versus-copy\n",
      "  \"\"\"Entry point for launching an IPython kernel.\n"
     ]
    }
   ],
   "source": [
    "Trips_credit_valid['Tolls'] = Trips_credit_valid['Tolls_amount'].apply(lambda x: 0 if x == 0 else 1)"
   ]
  },
  {
   "cell_type": "markdown",
   "metadata": {
    "_uuid": "304ddced41560cb48d5cbbb7fcb343930f6205f5"
   },
   "source": [
    "Longitudes and latitudes of pickup locations and dropoff locations were transferred to the Euclidean distance to median of coordinates of pickup and drop off location. Two new variables **pick_loc** and **drop_loc** were created"
   ]
  },
  {
   "cell_type": "code",
   "execution_count": 19,
   "metadata": {
    "_uuid": "a15affcb30b51104d6f63724d978276ceb82a552"
   },
   "outputs": [
    {
     "name": "stderr",
     "output_type": "stream",
     "text": [
      "/opt/conda/lib/python3.6/site-packages/ipykernel_launcher.py:3: SettingWithCopyWarning: \n",
      "A value is trying to be set on a copy of a slice from a DataFrame.\n",
      "Try using .loc[row_indexer,col_indexer] = value instead\n",
      "\n",
      "See the caveats in the documentation: http://pandas.pydata.org/pandas-docs/stable/indexing.html#indexing-view-versus-copy\n",
      "  This is separate from the ipykernel package so we can avoid doing imports until\n",
      "/opt/conda/lib/python3.6/site-packages/ipykernel_launcher.py:6: SettingWithCopyWarning: \n",
      "A value is trying to be set on a copy of a slice from a DataFrame.\n",
      "Try using .loc[row_indexer,col_indexer] = value instead\n",
      "\n",
      "See the caveats in the documentation: http://pandas.pydata.org/pandas-docs/stable/indexing.html#indexing-view-versus-copy\n",
      "  \n"
     ]
    }
   ],
   "source": [
    "drop_log_med = np.median(Trips_credit_valid['Dropoff_longitude'])\n",
    "drop_lat_med = np.median(Trips_credit_valid['Dropoff_latitude'])\n",
    "Trips_credit_valid['pick_loc'] = (Trips_credit_valid['Dropoff_longitude'] - drop_log_med) ** 2 + (Trips_credit_valid['Dropoff_latitude'] - drop_lat_med) ** 2\n",
    "pick_log_med = np.median(Trips_credit_valid['Pickup_longitude'])\n",
    "pick_lat_med = np.median(Trips_credit_valid['Pickup_latitude'])\n",
    "Trips_credit_valid['drop_loc'] = (Trips_credit_valid['Pickup_longitude'] - pick_log_med) ** 2 + (Trips_credit_valid['Pickup_latitude'] - pick_lat_med) ** 2"
   ]
  },
  {
   "cell_type": "markdown",
   "metadata": {
    "_uuid": "5b24085be61f666f947a931fb2d2d86dcf7da8f6"
   },
   "source": [
    "According to [Green Taxi Data Dictionary](http://www1.nyc.gov/assets/tlc/downloads/pdf/data_dictionary_trip_records_green.pdf), **Passenger_count** was entered by driver, 0 value passenger count may be due to missing values so impute 1 which was the most frequent **Passenger_count**"
   ]
  },
  {
   "cell_type": "code",
   "execution_count": 20,
   "metadata": {
    "_uuid": "84eda4b9b9dae3536272f2773fbd12667250bb9c"
   },
   "outputs": [
    {
     "name": "stderr",
     "output_type": "stream",
     "text": [
      "/opt/conda/lib/python3.6/site-packages/ipykernel_launcher.py:1: SettingWithCopyWarning: \n",
      "A value is trying to be set on a copy of a slice from a DataFrame.\n",
      "Try using .loc[row_indexer,col_indexer] = value instead\n",
      "\n",
      "See the caveats in the documentation: http://pandas.pydata.org/pandas-docs/stable/indexing.html#indexing-view-versus-copy\n",
      "  \"\"\"Entry point for launching an IPython kernel.\n"
     ]
    }
   ],
   "source": [
    "Trips_credit_valid['Passenger_count'] = Trips_credit_valid['Passenger_count'].apply(lambda x: 1 if x == 0 else x)"
   ]
  },
  {
   "cell_type": "markdown",
   "metadata": {
    "_uuid": "ab7edff51f2a5794c058cf6a5b1f6edb90b1c331"
   },
   "source": [
    "Target variable **Tip_percent** was extarcted saved separately. **Store_and_fwd_flag** was dropped due to it was unknown to pensengers, **Tip_amount, Tip_percent, lpep_pickup_datetime,  Lpep_dropoff_datetime, Pickup_longitude, Pickup_latitude, Dropoff_longitude, Dropoff_latitude** were drooped due to new variables related to them were created,  **Ehail_fee**  was dropped because it was all NAs"
   ]
  },
  {
   "cell_type": "code",
   "execution_count": 21,
   "metadata": {
    "_uuid": "b2c3bff97b1d5c363a700d41221f234198bc2e09"
   },
   "outputs": [
    {
     "name": "stderr",
     "output_type": "stream",
     "text": [
      "/opt/conda/lib/python3.6/site-packages/pandas/core/frame.py:3697: SettingWithCopyWarning: \n",
      "A value is trying to be set on a copy of a slice from a DataFrame\n",
      "\n",
      "See the caveats in the documentation: http://pandas.pydata.org/pandas-docs/stable/indexing.html#indexing-view-versus-copy\n",
      "  errors=errors)\n"
     ]
    }
   ],
   "source": [
    "y = Trips_credit_valid['Tip_percent']\n",
    "col_to_drop = ['Store_and_fwd_flag', 'Tip_amount', 'Tip_percent', 'lpep_pickup_datetime', 'Lpep_dropoff_datetime', 'Pickup_longitude', 'Pickup_latitude', 'Dropoff_longitude', 'Dropoff_latitude', 'Ehail_fee']\n",
    "for col in col_to_drop:\n",
    "    Trips_credit_valid.drop([col], axis=1, inplace=True)"
   ]
  },
  {
   "cell_type": "markdown",
   "metadata": {
    "_uuid": "2d983853a24b5b8433f4b922e65b309f07599c8c"
   },
   "source": [
    "**VendorID, RateCodeID, Extra, MTA_tax** were converted to category variables. **Extra** were 0 oronly includes the $0.50 and $1 rush hour and overnight charges. **MTA_tax** was 0 or only $0.50 MTA tax that is automatically triggered based on the metered rate in use."
   ]
  },
  {
   "cell_type": "code",
   "execution_count": 22,
   "metadata": {
    "_uuid": "e1b5b71dbbea7e072751b2b6f7d5fd6d101d2dec"
   },
   "outputs": [
    {
     "name": "stderr",
     "output_type": "stream",
     "text": [
      "/opt/conda/lib/python3.6/site-packages/ipykernel_launcher.py:4: SettingWithCopyWarning: \n",
      "A value is trying to be set on a copy of a slice from a DataFrame.\n",
      "Try using .loc[row_indexer,col_indexer] = value instead\n",
      "\n",
      "See the caveats in the documentation: http://pandas.pydata.org/pandas-docs/stable/indexing.html#indexing-view-versus-copy\n",
      "  after removing the cwd from sys.path.\n"
     ]
    }
   ],
   "source": [
    "def convert_to_categorical(data):\n",
    "    for col in data.columns:\n",
    "        if col in ['VendorID', 'RateCodeID', 'Extra', 'MTA_tax']:\n",
    "            data[col] = data[col].astype('category')\n",
    "    return data\n",
    "Trip_credit = convert_to_categorical(Trips_credit_valid)"
   ]
  },
  {
   "cell_type": "markdown",
   "metadata": {
    "_uuid": "26da9ff3e1290faab41b085dcfbb3d25e5391747"
   },
   "source": [
    "Due to limited resource of computer, linear models and tree-based models were applied to predict tip percent. Eligible data was split into training data (80%) and test data(20%). The 4 folds Cross Validation and random search were applied to training data to find best tuning parameters for each of three candidate models: Linear Regression with L1 norm (Lasso), Random Forest and Light Gradient Boosting Machine. **Light Gradient Boosting Machine** was selected because it has the least mean squared error on test data, comparing to Lasso or Random Forest. Three Python scripts and their log files were attached.\n"
   ]
  },
  {
   "cell_type": "markdown",
   "metadata": {
    "_uuid": "1a00b88cf590f22ab280f4b11f314acec07d9c98"
   },
   "source": [
    "### Question 5"
   ]
  },
  {
   "cell_type": "markdown",
   "metadata": {
    "_uuid": "32cfdb20de0ce91f806229f31db9d99084167d52"
   },
   "source": [
    "Anomaly Detection (Option D) was selected. Negative dollar amount numbers in data set were converted to positive values. These data errors can be fixed but did not mean abnormal trips. "
   ]
  },
  {
   "cell_type": "code",
   "execution_count": 23,
   "metadata": {
    "_uuid": "192d54144e9e34dfbc0f22a28cb174c41cc28208"
   },
   "outputs": [],
   "source": [
    "charge = ['Total_amount', 'Tip_amount', 'Tolls_amount', 'Fare_amount', 'Extra', 'MTA_tax', 'improvement_surcharge']\n",
    "data[charge] = data[charge].abs()"
   ]
  },
  {
   "cell_type": "markdown",
   "metadata": {
    "_uuid": "a0ee1289e8446e602f2f4a9bca3473199d1633b1"
   },
   "source": [
    "The traveling time of each trip **trip_time** was created by difference between drop off time stamp and pick up time stamp. "
   ]
  },
  {
   "cell_type": "code",
   "execution_count": 24,
   "metadata": {
    "_uuid": "01224042b783a665b6a10c8035c15cddd5a21e6f"
   },
   "outputs": [],
   "source": [
    "data['lpep_pickup_datetime'] = pd.to_datetime(data['lpep_pickup_datetime'])\n",
    "data['Lpep_dropoff_datetime'] = pd.to_datetime(data['Lpep_dropoff_datetime'])\n",
    "data['trip_time'] = (data['Lpep_dropoff_datetime'] - data['lpep_pickup_datetime']).dt.seconds/60.0/60.0"
   ]
  },
  {
   "cell_type": "markdown",
   "metadata": {
    "_uuid": "2265efcf5d42411e1e07c2c1fde9fe75c7e75af2"
   },
   "source": [
    "Trips has 0 miles **Trip_distance**, 0 seconds **trip_time** were considered as abnormal trips. According to [Taxi Fare](https://www1.nyc.gov/site/tlc/passengers/taxi-fare.page), intial charge is 2.50 dollars, trips with **Fare_amount** less than 2.50 dollars were abnormal trips. In addition to $2.50, the meter will charge 50 cents per 1/5 mile when traveling above 12mph or per 60 seconds in slow traffic or when the vehicle is stopped. Thus, **fare_per_mile** = (**Fare_amount**- 2.5) / **Trip_distance** should be at least 2.5, thus, trips had **fare_per_mile** less than 2.5 were abnormal trips. These abnormal trips mentioned before may be due to immediate cancellation of trips."
   ]
  },
  {
   "cell_type": "code",
   "execution_count": 25,
   "metadata": {
    "_uuid": "8232b50db25dc44ca26e7f78199b98da223e2617"
   },
   "outputs": [],
   "source": [
    "data['fare_per_mile'] = (data['Fare_amount'] - 2.5) / data['Trip_distance']"
   ]
  },
  {
   "cell_type": "markdown",
   "metadata": {
    "_uuid": "14a05fc44be9d9a49eb774e0dd243d3685682ad9"
   },
   "source": [
    "The average speed **avg_speed** was calculated by **Trip_distance** and **trip_time**."
   ]
  },
  {
   "cell_type": "code",
   "execution_count": 26,
   "metadata": {
    "_uuid": "3da54da0afc8e865006b7edc1baff4f967b271b3"
   },
   "outputs": [],
   "source": [
    "data['avg_speed'] = data['Trip_distance'] / (data['trip_time']) "
   ]
  },
  {
   "cell_type": "markdown",
   "metadata": {
    "_uuid": "fca1bc65a5879c312c561cd9f8b8456e28c50ccb"
   },
   "source": [
    "After removing abnormal trips which may be due to immediate cancellation of trips. The average speed was used to detect abnormal trips"
   ]
  },
  {
   "cell_type": "code",
   "execution_count": 27,
   "metadata": {
    "_uuid": "ec2d5ded62f47e6bfb5c5bd5d084ad6af834ea1e"
   },
   "outputs": [],
   "source": [
    "outliers_1 = data[(data['fare_per_mile'].isin([np.nan, np.inf, -np.inf])) | (data['avg_speed'].isin([np.nan, np.inf, -np.inf])) | (data['fare_per_mile'] > 0) | (data['avg_speed'] > 0) | (data['trip_time'] <= 0)]\n",
    "data_no_errors = data[(~data['fare_per_mile'].isin([np.nan, np.inf, -np.inf])) & (~data['avg_speed'].isin([np.nan, np.inf, -np.inf])) & (data['fare_per_mile'] > 2.5) & (data['avg_speed'] > 0) & (data['trip_time'] > 0)]"
   ]
  },
  {
   "cell_type": "markdown",
   "metadata": {
    "_uuid": "744f7b2da445ca577130bef633816cab61afe5c8"
   },
   "source": [
    "For trips with Standard Fare in New York City (**RateCodeID** = 1), the average speed was usually under 40 MPH because these trips were in the city or close to the city. For trips outside the New York City (**RateCodeID** = 2, 3, 4) or negotiated fare trips (**RateCodeID** = 5), the average speed was usually under 80 MPH. Trips with average speed larger than 40MPH with **RateCodeID** = 1 or larger than 80MPH **RateCodeID** = 2,3,4,5 were abnormal trips. Large average speed trips were because of very large **Trip_distance** or extreme small **trip_time**."
   ]
  },
  {
   "cell_type": "code",
   "execution_count": 28,
   "metadata": {
    "_uuid": "1814d6a21a10a899030949a36af55ea00587cddd",
    "scrolled": true
   },
   "outputs": [
    {
     "data": {
      "text/html": [
       "<div>\n",
       "<style scoped>\n",
       "    .dataframe tbody tr th:only-of-type {\n",
       "        vertical-align: middle;\n",
       "    }\n",
       "\n",
       "    .dataframe tbody tr th {\n",
       "        vertical-align: top;\n",
       "    }\n",
       "\n",
       "    .dataframe thead th {\n",
       "        text-align: right;\n",
       "    }\n",
       "</style>\n",
       "<table border=\"1\" class=\"dataframe\">\n",
       "  <thead>\n",
       "    <tr style=\"text-align: right;\">\n",
       "      <th></th>\n",
       "      <th>VendorID</th>\n",
       "      <th>RateCodeID</th>\n",
       "      <th>Pickup_longitude</th>\n",
       "      <th>Pickup_latitude</th>\n",
       "      <th>Dropoff_longitude</th>\n",
       "      <th>Dropoff_latitude</th>\n",
       "      <th>Passenger_count</th>\n",
       "      <th>Trip_distance</th>\n",
       "      <th>Fare_amount</th>\n",
       "      <th>Extra</th>\n",
       "      <th>MTA_tax</th>\n",
       "      <th>Tip_amount</th>\n",
       "      <th>Tolls_amount</th>\n",
       "      <th>Ehail_fee</th>\n",
       "      <th>improvement_surcharge</th>\n",
       "      <th>Total_amount</th>\n",
       "      <th>Payment_type</th>\n",
       "      <th>Trip_type</th>\n",
       "      <th>pickup_hour</th>\n",
       "      <th>trip_time</th>\n",
       "      <th>fare_per_mile</th>\n",
       "      <th>avg_speed</th>\n",
       "    </tr>\n",
       "  </thead>\n",
       "  <tbody>\n",
       "    <tr>\n",
       "      <th>count</th>\n",
       "      <td>2662.00</td>\n",
       "      <td>2662.00</td>\n",
       "      <td>2662.00</td>\n",
       "      <td>2662.00</td>\n",
       "      <td>2662.00</td>\n",
       "      <td>2662.00</td>\n",
       "      <td>2662.00</td>\n",
       "      <td>2662.00</td>\n",
       "      <td>2662.00</td>\n",
       "      <td>2662.00</td>\n",
       "      <td>2662.00</td>\n",
       "      <td>2662.00</td>\n",
       "      <td>2662.00</td>\n",
       "      <td>0.0</td>\n",
       "      <td>2662.00</td>\n",
       "      <td>2662.00</td>\n",
       "      <td>2662.00</td>\n",
       "      <td>2662.00</td>\n",
       "      <td>2662.00</td>\n",
       "      <td>2662.00</td>\n",
       "      <td>2662.00</td>\n",
       "      <td>2662.00</td>\n",
       "    </tr>\n",
       "    <tr>\n",
       "      <th>mean</th>\n",
       "      <td>1.68</td>\n",
       "      <td>2.33</td>\n",
       "      <td>-72.30</td>\n",
       "      <td>39.87</td>\n",
       "      <td>-73.78</td>\n",
       "      <td>40.69</td>\n",
       "      <td>1.29</td>\n",
       "      <td>9.73</td>\n",
       "      <td>35.21</td>\n",
       "      <td>0.23</td>\n",
       "      <td>0.33</td>\n",
       "      <td>3.49</td>\n",
       "      <td>0.54</td>\n",
       "      <td>NaN</td>\n",
       "      <td>0.21</td>\n",
       "      <td>40.00</td>\n",
       "      <td>1.40</td>\n",
       "      <td>1.31</td>\n",
       "      <td>9.38</td>\n",
       "      <td>0.20</td>\n",
       "      <td>30.41</td>\n",
       "      <td>471.77</td>\n",
       "    </tr>\n",
       "    <tr>\n",
       "      <th>std</th>\n",
       "      <td>0.47</td>\n",
       "      <td>1.84</td>\n",
       "      <td>10.79</td>\n",
       "      <td>5.95</td>\n",
       "      <td>2.48</td>\n",
       "      <td>1.37</td>\n",
       "      <td>0.85</td>\n",
       "      <td>9.24</td>\n",
       "      <td>28.15</td>\n",
       "      <td>0.27</td>\n",
       "      <td>0.24</td>\n",
       "      <td>6.28</td>\n",
       "      <td>1.99</td>\n",
       "      <td>NaN</td>\n",
       "      <td>0.14</td>\n",
       "      <td>31.28</td>\n",
       "      <td>0.63</td>\n",
       "      <td>0.46</td>\n",
       "      <td>7.18</td>\n",
       "      <td>0.21</td>\n",
       "      <td>118.57</td>\n",
       "      <td>1676.09</td>\n",
       "    </tr>\n",
       "    <tr>\n",
       "      <th>min</th>\n",
       "      <td>1.00</td>\n",
       "      <td>1.00</td>\n",
       "      <td>-75.37</td>\n",
       "      <td>0.00</td>\n",
       "      <td>-75.26</td>\n",
       "      <td>0.00</td>\n",
       "      <td>0.00</td>\n",
       "      <td>0.03</td>\n",
       "      <td>3.50</td>\n",
       "      <td>0.00</td>\n",
       "      <td>0.00</td>\n",
       "      <td>0.00</td>\n",
       "      <td>0.00</td>\n",
       "      <td>NaN</td>\n",
       "      <td>0.00</td>\n",
       "      <td>3.50</td>\n",
       "      <td>1.00</td>\n",
       "      <td>1.00</td>\n",
       "      <td>0.00</td>\n",
       "      <td>0.00</td>\n",
       "      <td>2.50</td>\n",
       "      <td>40.00</td>\n",
       "    </tr>\n",
       "    <tr>\n",
       "      <th>25%</th>\n",
       "      <td>1.00</td>\n",
       "      <td>1.00</td>\n",
       "      <td>-73.95</td>\n",
       "      <td>40.70</td>\n",
       "      <td>-73.94</td>\n",
       "      <td>40.65</td>\n",
       "      <td>1.00</td>\n",
       "      <td>2.00</td>\n",
       "      <td>20.00</td>\n",
       "      <td>0.00</td>\n",
       "      <td>0.00</td>\n",
       "      <td>0.00</td>\n",
       "      <td>0.00</td>\n",
       "      <td>NaN</td>\n",
       "      <td>0.00</td>\n",
       "      <td>20.80</td>\n",
       "      <td>1.00</td>\n",
       "      <td>1.00</td>\n",
       "      <td>4.00</td>\n",
       "      <td>0.00</td>\n",
       "      <td>2.53</td>\n",
       "      <td>41.58</td>\n",
       "    </tr>\n",
       "    <tr>\n",
       "      <th>50%</th>\n",
       "      <td>2.00</td>\n",
       "      <td>1.00</td>\n",
       "      <td>-73.92</td>\n",
       "      <td>40.75</td>\n",
       "      <td>-73.87</td>\n",
       "      <td>40.72</td>\n",
       "      <td>1.00</td>\n",
       "      <td>8.93</td>\n",
       "      <td>30.50</td>\n",
       "      <td>0.00</td>\n",
       "      <td>0.50</td>\n",
       "      <td>0.00</td>\n",
       "      <td>0.00</td>\n",
       "      <td>NaN</td>\n",
       "      <td>0.30</td>\n",
       "      <td>35.16</td>\n",
       "      <td>1.00</td>\n",
       "      <td>1.00</td>\n",
       "      <td>7.00</td>\n",
       "      <td>0.19</td>\n",
       "      <td>2.57</td>\n",
       "      <td>45.49</td>\n",
       "    </tr>\n",
       "    <tr>\n",
       "      <th>75%</th>\n",
       "      <td>2.00</td>\n",
       "      <td>5.00</td>\n",
       "      <td>-73.87</td>\n",
       "      <td>40.81</td>\n",
       "      <td>-73.79</td>\n",
       "      <td>40.81</td>\n",
       "      <td>1.00</td>\n",
       "      <td>14.60</td>\n",
       "      <td>44.38</td>\n",
       "      <td>0.50</td>\n",
       "      <td>0.50</td>\n",
       "      <td>5.99</td>\n",
       "      <td>0.00</td>\n",
       "      <td>NaN</td>\n",
       "      <td>0.30</td>\n",
       "      <td>51.30</td>\n",
       "      <td>2.00</td>\n",
       "      <td>2.00</td>\n",
       "      <td>15.00</td>\n",
       "      <td>0.34</td>\n",
       "      <td>7.33</td>\n",
       "      <td>199.24</td>\n",
       "    </tr>\n",
       "    <tr>\n",
       "      <th>max</th>\n",
       "      <td>2.00</td>\n",
       "      <td>5.00</td>\n",
       "      <td>0.00</td>\n",
       "      <td>41.15</td>\n",
       "      <td>0.00</td>\n",
       "      <td>41.92</td>\n",
       "      <td>7.00</td>\n",
       "      <td>134.70</td>\n",
       "      <td>475.00</td>\n",
       "      <td>1.00</td>\n",
       "      <td>0.50</td>\n",
       "      <td>102.95</td>\n",
       "      <td>28.00</td>\n",
       "      <td>NaN</td>\n",
       "      <td>0.30</td>\n",
       "      <td>475.00</td>\n",
       "      <td>5.00</td>\n",
       "      <td>2.00</td>\n",
       "      <td>23.00</td>\n",
       "      <td>2.28</td>\n",
       "      <td>3184.67</td>\n",
       "      <td>35370.00</td>\n",
       "    </tr>\n",
       "  </tbody>\n",
       "</table>\n",
       "</div>"
      ],
      "text/plain": [
       "       VendorID  RateCodeID    ...      fare_per_mile  avg_speed\n",
       "count   2662.00     2662.00    ...            2662.00    2662.00\n",
       "mean       1.68        2.33    ...              30.41     471.77\n",
       "std        0.47        1.84    ...             118.57    1676.09\n",
       "min        1.00        1.00    ...               2.50      40.00\n",
       "25%        1.00        1.00    ...               2.53      41.58\n",
       "50%        2.00        1.00    ...               2.57      45.49\n",
       "75%        2.00        5.00    ...               7.33     199.24\n",
       "max        2.00        5.00    ...            3184.67   35370.00\n",
       "\n",
       "[8 rows x 22 columns]"
      ]
     },
     "execution_count": 28,
     "metadata": {},
     "output_type": "execute_result"
    }
   ],
   "source": [
    "Outliers_2 = data_no_errors.loc[(data_no_errors['RateCodeID'].isin([1])) & (data_no_errors['avg_speed'] > 40) | (data_no_errors['RateCodeID'].isin([2,3,4,5])) & (data_no_errors['avg_speed'] > 80),:] \n",
    "Outliers_2.describe().round(2)"
   ]
  },
  {
   "cell_type": "code",
   "execution_count": 29,
   "metadata": {
    "_uuid": "acfb8277088a10eaf323cf92dfa0ab0f9b0d79c4"
   },
   "outputs": [],
   "source": [
    "data_sub = data_no_errors[['Trip_distance', 'RateCodeID', 'trip_time', 'avg_speed']]"
   ]
  },
  {
   "cell_type": "markdown",
   "metadata": {
    "_uuid": "6a7313373a20a978cc7f41a7e22ce2834f6ae9d3"
   },
   "source": [
    "After removing abnormal average speed trips, 2D scattrplots in terms of **Trip_distance** and **trip_time** were provided. "
   ]
  },
  {
   "cell_type": "markdown",
   "metadata": {
    "_uuid": "e1919ea415a7b30e6951d78b06891b55f7e71224"
   },
   "source": [
    "1. Trips with **RateCodeID** = 1"
   ]
  },
  {
   "cell_type": "code",
   "execution_count": 30,
   "metadata": {
    "_kg_hide-input": true,
    "_uuid": "c84745ba0dbc31f152da4570befd2a05fa073a2c"
   },
   "outputs": [
    {
     "name": "stdout",
     "output_type": "stream",
     "text": [
      "       Trip_distance  RateCodeID   trip_time   avg_speed\n",
      "count     1392417.00   1392417.0  1392417.00  1392417.00\n",
      "mean            3.00         1.0        0.34       12.72\n",
      "std             2.83         0.0        1.61        5.37\n",
      "min             0.01         1.0        0.00        0.00\n",
      "25%             1.16         1.0        0.11        9.35\n",
      "50%             2.05         1.0        0.18       11.69\n",
      "75%             3.80         1.0        0.29       14.78\n",
      "max           120.13         1.0       24.00       40.00\n"
     ]
    },
    {
     "data": {
      "image/png": "[encoded data removed]",
      "text/plain": [
       "<Figure size 432x288 with 1 Axes>"
      ]
     },
     "metadata": {},
     "output_type": "display_data"
    }
   ],
   "source": [
    "data_sub_loc = data_sub.loc[(data_sub['RateCodeID'].isin([1])) & (data_sub['avg_speed'] <= 40),:]\n",
    "print(data_sub_loc.describe().round(2))\n",
    "fig, ax = plt.subplots()\n",
    "ax.scatter(data_sub_loc['Trip_distance'], data_sub_loc['trip_time'], s=.2)\n",
    "# plt.xlim([0,70])\n",
    "# plt.ylim([0,1000])\n",
    "plt.xlabel('Trip_distance', fontsize=18)\n",
    "plt.ylabel('trip_time', fontsize=16)\n",
    "plt.show()"
   ]
  },
  {
   "cell_type": "markdown",
   "metadata": {
    "_uuid": "f8e2de55fa0eb23eab645717b229dbcad84fd705"
   },
   "source": [
    "2. Trips with **RateCodeID** = 2,3,4,5"
   ]
  },
  {
   "cell_type": "code",
   "execution_count": 31,
   "metadata": {
    "_kg_hide-input": true,
    "_uuid": "ce269d4fee01d6fa283a727a35d12141d306a26a"
   },
   "outputs": [
    {
     "name": "stdout",
     "output_type": "stream",
     "text": [
      "       Trip_distance  RateCodeID  trip_time  avg_speed\n",
      "count       21735.00    21735.00   21735.00   21735.00\n",
      "mean            5.72        4.47       0.50      17.13\n",
      "std             7.04        1.08       2.04      11.53\n",
      "min             0.01        2.00       0.00       0.00\n",
      "25%             1.08        5.00       0.11       9.58\n",
      "50%             2.65        5.00       0.22      13.54\n",
      "75%             7.90        5.00       0.43      22.43\n",
      "max            94.38        5.00      23.99      80.00\n"
     ]
    },
    {
     "data": {
      "image/png": "[encoded data removed]",
      "text/plain": [
       "<Figure size 432x288 with 1 Axes>"
      ]
     },
     "metadata": {},
     "output_type": "display_data"
    }
   ],
   "source": [
    "data_sub_sub = data_sub.loc[(data_sub['RateCodeID'].isin([2,3,4,5])) & (data_sub['avg_speed'] <= 80),:]\n",
    "print(data_sub_sub.describe().round(2))\n",
    "fig, ax = plt.subplots()\n",
    "ax.scatter(data_sub_sub['Trip_distance'], data_sub_sub['trip_time'], s=.2)\n",
    "# plt.xlim([0,70])\n",
    "# plt.ylim([0,1000])\n",
    "plt.xlabel('Trip_distance', fontsize=18)\n",
    "plt.ylabel('trip_time', fontsize=16)\n",
    "plt.show()"
   ]
  },
  {
   "cell_type": "markdown",
   "metadata": {
    "_uuid": "d5f0edce6967ce1c52827f7d2f5000ea4722e7bc"
   },
   "source": [
    "Two dimensions outliers detection methodology was attemped. A bidimensional binning was implemented and count of each bin were calculated. Following criteria were estabulised to detect abnormal trips. \n",
    "\n",
    "1. Points in bins with small count number were considered as outliers \n",
    "2. Points far away from large density population were considered as outliers \n",
    "\n",
    "Data was normalized before applying any methods to it"
   ]
  },
  {
   "cell_type": "code",
   "execution_count": 32,
   "metadata": {
    "_uuid": "004a3501d3569d0e4ce2a382f323d55fd4f5dba4"
   },
   "outputs": [],
   "source": [
    "norm_data_sub_sub = preprocessing.normalize(data_sub_sub[['Trip_distance','trip_time']])\n",
    "norm_data_sub_loc = preprocessing.normalize(data_sub_loc[['Trip_distance','trip_time']])"
   ]
  },
  {
   "cell_type": "markdown",
   "metadata": {
    "_uuid": "99c3aa9626a979164168d97da15ed880983ce695"
   },
   "source": [
    "1. Trips with **RateCodeID** = 1\n",
    "\n",
    "    The scatter plot below shows that red points were outliers. If trips count in a bin is less than 50 (Criterion 1), the trips inside this bin and trips with **trip_time** over 20 hours (Criterion 2) were considered as abnormal trips. These abnormal trips with large **trip_time** may be due to GPS function did not work well."
   ]
  },
  {
   "cell_type": "code",
   "execution_count": 33,
   "metadata": {
    "_kg_hide-input": false,
    "_kg_hide-output": true,
    "_uuid": "81a65300d396add0d81fdbde96ee8c85f3277764"
   },
   "outputs": [
    {
     "name": "stderr",
     "output_type": "stream",
     "text": [
      "/opt/conda/lib/python3.6/site-packages/scipy/stats/_binned_statistic.py:607: FutureWarning: Using a non-tuple sequence for multidimensional indexing is deprecated; use `arr[tuple(seq)]` instead of `arr[seq]`. In the future this will be interpreted as an array index, `arr[np.array(seq)]`, which will result either in an error or a different result.\n",
      "  result = result[core]\n"
     ]
    }
   ],
   "source": [
    "cut = 50\n",
    "ret = binned_statistic_2d(data_sub_loc['Trip_distance'], data_sub_loc['trip_time'], None, 'count', bins=[120, 25], expand_binnumbers=True)"
   ]
  },
  {
   "cell_type": "code",
   "execution_count": 34,
   "metadata": {
    "_kg_hide-input": false,
    "_kg_hide-output": true,
    "_uuid": "e72ee634db0d5f68f65006f8aadbcb12c5996d7b"
   },
   "outputs": [
    {
     "name": "stderr",
     "output_type": "stream",
     "text": [
      "/opt/conda/lib/python3.6/site-packages/ipykernel_launcher.py:2: SettingWithCopyWarning: \n",
      "A value is trying to be set on a copy of a slice from a DataFrame.\n",
      "Try using .loc[row_indexer,col_indexer] = value instead\n",
      "\n",
      "See the caveats in the documentation: http://pandas.pydata.org/pandas-docs/stable/indexing.html#indexing-view-versus-copy\n",
      "  \n",
      "/opt/conda/lib/python3.6/site-packages/ipykernel_launcher.py:6: SettingWithCopyWarning: \n",
      "A value is trying to be set on a copy of a slice from a DataFrame\n",
      "\n",
      "See the caveats in the documentation: http://pandas.pydata.org/pandas-docs/stable/indexing.html#indexing-view-versus-copy\n",
      "  \n",
      "/opt/conda/lib/python3.6/site-packages/pandas/core/generic.py:7626: SettingWithCopyWarning: \n",
      "A value is trying to be set on a copy of a slice from a DataFrame\n",
      "\n",
      "See the caveats in the documentation: http://pandas.pydata.org/pandas-docs/stable/indexing.html#indexing-view-versus-copy\n",
      "  self._update_inplace(new_data)\n",
      "/opt/conda/lib/python3.6/site-packages/IPython/core/interactiveshell.py:2963: SettingWithCopyWarning: \n",
      "A value is trying to be set on a copy of a slice from a DataFrame\n",
      "\n",
      "See the caveats in the documentation: http://pandas.pydata.org/pandas-docs/stable/indexing.html#indexing-view-versus-copy\n",
      "  exec(code_obj, self.user_global_ns, self.user_ns)\n"
     ]
    },
    {
     "name": "stdout",
     "output_type": "stream",
     "text": [
      "8930\n"
     ]
    },
    {
     "name": "stderr",
     "output_type": "stream",
     "text": [
      "/opt/conda/lib/python3.6/site-packages/pandas/core/indexing.py:543: SettingWithCopyWarning: \n",
      "A value is trying to be set on a copy of a slice from a DataFrame.\n",
      "Try using .loc[row_indexer,col_indexer] = value instead\n",
      "\n",
      "See the caveats in the documentation: http://pandas.pydata.org/pandas-docs/stable/indexing.html#indexing-view-versus-copy\n",
      "  self.obj[item] = s\n"
     ]
    }
   ],
   "source": [
    "data_sub_loc['labels'] = [1] * len(data_sub_loc['Trip_distance'])\n",
    "\n",
    "temp = np.argwhere(ret.statistic > cut)\n",
    "for i in range(len(temp)):  \n",
    "    data_sub_loc['labels'][(ret.binnumber[0]==temp[i][0]+1) & (ret.binnumber[1]==temp[i][1]+1)] = 0\n",
    "\n",
    "data_sub_loc.loc[data_sub_loc['trip_time'] > 20,['labels']] = 1# Points far away from large density population were considered as outliers \n",
    "print(sum(data_sub_loc['labels']))"
   ]
  },
  {
   "cell_type": "code",
   "execution_count": 35,
   "metadata": {
    "_uuid": "d7257c7fea2d21d3b4c983df68ba803ac46ede33"
   },
   "outputs": [
    {
     "data": {
      "image/png": "[encoded data removed]",
      "text/plain": [
       "<Figure size 432x288 with 1 Axes>"
      ]
     },
     "metadata": {},
     "output_type": "display_data"
    }
   ],
   "source": [
    "fig, ax = plt.subplots()\n",
    "colors = {1:'red', 0:'blue'}\n",
    "\n",
    "ax.scatter(data_sub_loc['Trip_distance'], data_sub_loc['trip_time'], c=data_sub_loc['labels'].apply(lambda x: colors[x]), s=.2)\n",
    "plt.xlabel('Trip_distance', fontsize=18)\n",
    "plt.ylabel('trip_time', fontsize=16)\n",
    "plt.show()"
   ]
  },
  {
   "cell_type": "markdown",
   "metadata": {
    "_uuid": "1effa4cf1af6d018ac94e70898452adfa429b90a"
   },
   "source": [
    "2. Trips with **RateCodeID** = 2,3,4,5\n",
    "\n",
    "    The scatter plot below shows that red points were outliers. If trips count in a bin is less than 10 (Criterion 1), the trips inside this bin and trips with **trip_time** over 20 hours (Criterion 2) were considered as abnormal trips. These abnormal trips with large **trip_time** may be due to GPS function did not work well."
   ]
  },
  {
   "cell_type": "code",
   "execution_count": 36,
   "metadata": {
    "_kg_hide-input": false,
    "_kg_hide-output": true,
    "_uuid": "4bebb4c5f74773c2fdfdaa16c5791b94cbbc24ff"
   },
   "outputs": [
    {
     "name": "stdout",
     "output_type": "stream",
     "text": [
      "21377.0\n",
      "358.0\n"
     ]
    },
    {
     "name": "stderr",
     "output_type": "stream",
     "text": [
      "/opt/conda/lib/python3.6/site-packages/scipy/stats/_binned_statistic.py:607: FutureWarning: Using a non-tuple sequence for multidimensional indexing is deprecated; use `arr[tuple(seq)]` instead of `arr[seq]`. In the future this will be interpreted as an array index, `arr[np.array(seq)]`, which will result either in an error or a different result.\n",
      "  result = result[core]\n"
     ]
    }
   ],
   "source": [
    "cut = 10\n",
    "ret = binned_statistic_2d(data_sub_sub['Trip_distance'], data_sub_sub['trip_time'], None, 'count', bins=[90, 25], expand_binnumbers=True)\n",
    "print(ret.statistic[ret.statistic > cut].sum())\n",
    "print(ret.statistic.sum() - ret.statistic[ret.statistic > cut].sum())"
   ]
  },
  {
   "cell_type": "code",
   "execution_count": 37,
   "metadata": {
    "_kg_hide-input": false,
    "_kg_hide-output": true,
    "_uuid": "30f0cc8dc552ebcd765c0d177587965d0a60d9fc"
   },
   "outputs": [
    {
     "name": "stderr",
     "output_type": "stream",
     "text": [
      "/opt/conda/lib/python3.6/site-packages/ipykernel_launcher.py:2: SettingWithCopyWarning: \n",
      "A value is trying to be set on a copy of a slice from a DataFrame.\n",
      "Try using .loc[row_indexer,col_indexer] = value instead\n",
      "\n",
      "See the caveats in the documentation: http://pandas.pydata.org/pandas-docs/stable/indexing.html#indexing-view-versus-copy\n",
      "  \n",
      "/opt/conda/lib/python3.6/site-packages/ipykernel_launcher.py:6: SettingWithCopyWarning: \n",
      "A value is trying to be set on a copy of a slice from a DataFrame\n",
      "\n",
      "See the caveats in the documentation: http://pandas.pydata.org/pandas-docs/stable/indexing.html#indexing-view-versus-copy\n",
      "  \n",
      "/opt/conda/lib/python3.6/site-packages/pandas/core/generic.py:7626: SettingWithCopyWarning: \n",
      "A value is trying to be set on a copy of a slice from a DataFrame\n",
      "\n",
      "See the caveats in the documentation: http://pandas.pydata.org/pandas-docs/stable/indexing.html#indexing-view-versus-copy\n",
      "  self._update_inplace(new_data)\n",
      "/opt/conda/lib/python3.6/site-packages/IPython/core/interactiveshell.py:2963: SettingWithCopyWarning: \n",
      "A value is trying to be set on a copy of a slice from a DataFrame\n",
      "\n",
      "See the caveats in the documentation: http://pandas.pydata.org/pandas-docs/stable/indexing.html#indexing-view-versus-copy\n",
      "  exec(code_obj, self.user_global_ns, self.user_ns)\n",
      "/opt/conda/lib/python3.6/site-packages/pandas/core/indexing.py:543: SettingWithCopyWarning: \n",
      "A value is trying to be set on a copy of a slice from a DataFrame.\n",
      "Try using .loc[row_indexer,col_indexer] = value instead\n",
      "\n",
      "See the caveats in the documentation: http://pandas.pydata.org/pandas-docs/stable/indexing.html#indexing-view-versus-copy\n",
      "  self.obj[item] = s\n"
     ]
    },
    {
     "data": {
      "text/plain": [
       "454"
      ]
     },
     "execution_count": 37,
     "metadata": {},
     "output_type": "execute_result"
    }
   ],
   "source": [
    "# print(ret.binnumber)\n",
    "data_sub_sub['labels'] = [1] * len(data_sub_sub['Trip_distance'])\n",
    "\n",
    "temp = np.argwhere(ret.statistic > cut)\n",
    "for i in range(len(temp)):  \n",
    "    data_sub_sub['labels'][(ret.binnumber[0]==temp[i][0]+1) & (ret.binnumber[1]==temp[i][1]+1)] = 0\n",
    "    \n",
    "data_sub_sub.loc[data_sub_sub['trip_time'] > 20,['labels']] = 1# Points far away from large density population were considered as outliers \n",
    "sum(data_sub_sub['labels'])"
   ]
  },
  {
   "cell_type": "code",
   "execution_count": 38,
   "metadata": {
    "_uuid": "53c9eb6db13069aef49beb8e4ac2e500c12c893b"
   },
   "outputs": [
    {
     "data": {
      "image/png": "[encoded data removed]",
      "text/plain": [
       "<Figure size 432x288 with 1 Axes>"
      ]
     },
     "metadata": {},
     "output_type": "display_data"
    }
   ],
   "source": [
    "fig, ax = plt.subplots()\n",
    "colors = {1:'red', 0:'blue'}\n",
    "\n",
    "ax.scatter(data_sub_sub['Trip_distance'], data_sub_sub['trip_time'], c=data_sub_sub['labels'].apply(lambda x: colors[x]), s=.2)\n",
    "plt.xlabel('Trip_distance', fontsize=18)\n",
    "plt.ylabel('trip_time', fontsize=16)\n",
    "plt.show()"
   ]
  }
 ],
 "metadata": {
  "kernelspec": {
   "display_name": "Python 3",
   "language": "python",
   "name": "python3"
  },
  "language_info": {
   "codemirror_mode": {
    "name": "ipython",
    "version": 3
   },
   "file_extension": ".py",
   "mimetype": "text/x-python",
   "name": "python",
   "nbconvert_exporter": "python",
   "pygments_lexer": "ipython3",
   "version": "3.7.1"
  }
 },
 "nbformat": 4,
 "nbformat_minor": 1
}
